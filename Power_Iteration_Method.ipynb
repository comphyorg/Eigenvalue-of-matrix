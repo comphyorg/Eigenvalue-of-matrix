{
  "nbformat": 4,
  "nbformat_minor": 0,
  "metadata": {
    "kernelspec": {
      "display_name": "Python 3",
      "language": "python",
      "name": "python3"
    },
    "language_info": {
      "codemirror_mode": {
        "name": "ipython",
        "version": 3
      },
      "file_extension": ".py",
      "mimetype": "text/x-python",
      "name": "python",
      "nbconvert_exporter": "python",
      "pygments_lexer": "ipython3",
      "version": "3.7.4"
    },
    "colab": {
      "name": "Power Iteration Method.ipynb",
      "provenance": [],
      "collapsed_sections": [],
      "include_colab_link": true
    }
  },
  "cells": [
    {
      "cell_type": "markdown",
      "metadata": {
        "id": "view-in-github",
        "colab_type": "text"
      },
      "source": [
        "<a href=\"https://colab.research.google.com/github/comphyorg/Eigenvalue-of-matrix/blob/master/Power_Iteration_Method.ipynb\" target=\"_parent\"><img src=\"https://colab.research.google.com/assets/colab-badge.svg\" alt=\"Open In Colab\"/></a>"
      ]
    },
    {
      "cell_type": "code",
      "metadata": {
        "id": "UxYqBmMsFfzD",
        "outputId": "133c3de7-66fd-4aa1-fc75-3ec5d4f1f6e3"
      },
      "source": [
        "# importing only library we need\n",
        "import numpy as np\n",
        "\n",
        "# defining the function\n",
        "def pow_meth(mat, vec, prec):\n",
        "    # sample eigenvalue\n",
        "    e_val = 0.\n",
        "\n",
        "    # only for non-zero determinant\n",
        "    if (np.linalg.det(mat) != 0) :\n",
        "    \n",
        "        count = 1\n",
        "        while True:\n",
        "\n",
        "           # This normalises our vector\n",
        "            alpha_index = (np.argmax(np.abs(vec)))  # argmax returns the index of the largest value in a numpy array\n",
        "            alpha = vec[alpha_index]\n",
        "            vec = vec/alpha\n",
        "\n",
        "            # The expression for dominant eigenvalue.\n",
        "            e_val_temp = np.dot(np.transpose(np.matmul(mat,vec)),vec)/(np.dot(np.transpose(vec),vec))\n",
        "\n",
        "            if (abs(e_val_temp-e_val)> prec ):\n",
        "                vec = np.dot(vec,mat)\n",
        "                e_val = e_val_temp\n",
        "                count=count+1\n",
        "            else:\n",
        "                e_val = e_val_temp\n",
        "                break\n",
        "        # returning the domininat eigenvalue and corresponding eigenvector with the number of iteration it took\n",
        "        return e_val, vec, count \n",
        "    else :\n",
        "        print(\"Invalid matrix\")\n",
        "\n",
        "\n",
        "# defining a matrix and column vector\n",
        "dim = 5\n",
        "mat = (np.array([19,-1,-2,2,.5,-1,5,-1,-2,1,-2,-1,2,-1,5,2,-2,-1,3,.1,50,-1,-2,2,2]).reshape(dim,dim))\n",
        "\n",
        "# data type change to float to get rid of truncation error as much as possible\n",
        "mat = mat.astype('float64')\n",
        "\n",
        "# This vector is, though arbitrarily chosen, deciding factor for efficiency of program.\n",
        "vec = np.array([1.,0.,0.,0.,0.])\n",
        "prec = 0.00001\n",
        "\n",
        "eigenvalues=0\n",
        "eigenvectors=np.zeros(dim)\n",
        "\n",
        "# Eigenvalues and Eigenvector through power method\n",
        "eigenvalues, eigenvectors, count =(pow_meth(mat,vec,prec))\n",
        "\n",
        "print(\"The dominant eigenvalue of matrix is \"+ str(eigenvalues))\n",
        "print(\"The dominant eigenvector of matrix is \"+ str(eigenvectors))"
      ],
      "execution_count": null,
      "outputs": [
        {
          "output_type": "stream",
          "text": [
            "The dominant eigenvalue of matrix is 19.12428992077907\n",
            "The dominant eigenvector of matrix is [ 1.         -0.08156712 -0.11911402  0.14035949 -0.0095245 ]\n"
          ],
          "name": "stdout"
        }
      ]
    },
    {
      "cell_type": "markdown",
      "metadata": {
        "id": "n7mGaSkavaRg"
      },
      "source": [
        "[![Open In Colab](https://colab.research.google.com/assets/colab-badge.svg)](https://colab.research.google.com/drive/1o8NgohRU5kv9s8IA4Lke18CR9whOFYbS?authuser=2#scrollTo=n7mGaSkavaRg )"
      ]
    },
    {
      "cell_type": "markdown",
      "metadata": {
        "id": "JeKnmFIRFfzk"
      },
      "source": [
        "\n",
        "## Reference\n",
        "https://en.wikipedia.org/wiki/Power_iteration"
      ]
    }
  ]
}